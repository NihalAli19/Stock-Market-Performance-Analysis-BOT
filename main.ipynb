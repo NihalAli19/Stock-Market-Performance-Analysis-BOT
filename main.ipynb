{
 "cells": [
  {
   "cell_type": "code",
   "execution_count": 1,
   "id": "cdf3fb73c6970b5d",
   "metadata": {
    "ExecuteTime": {
     "end_time": "2023-11-26T09:50:32.890395300Z",
     "start_time": "2023-11-26T09:50:29.615671200Z"
    }
   },
   "outputs": [
    {
     "ename": "ModuleNotFoundError",
     "evalue": "No module named 'keras'",
     "output_type": "error",
     "traceback": [
      "\u001B[1;31m---------------------------------------------------------------------------\u001B[0m",
      "\u001B[1;31mModuleNotFoundError\u001B[0m                       Traceback (most recent call last)",
      "Cell \u001B[1;32mIn[1], line 7\u001B[0m\n\u001B[0;32m      5\u001B[0m \u001B[38;5;28;01mimport\u001B[39;00m \u001B[38;5;21;01mplotly\u001B[39;00m\u001B[38;5;21;01m.\u001B[39;00m\u001B[38;5;21;01mgraph_objects\u001B[39;00m \u001B[38;5;28;01mas\u001B[39;00m \u001B[38;5;21;01mgo\u001B[39;00m\n\u001B[0;32m      6\u001B[0m \u001B[38;5;28;01mfrom\u001B[39;00m \u001B[38;5;21;01msklearn\u001B[39;00m\u001B[38;5;21;01m.\u001B[39;00m\u001B[38;5;21;01mpreprocessing\u001B[39;00m \u001B[38;5;28;01mimport\u001B[39;00m MinMaxScaler\n\u001B[1;32m----> 7\u001B[0m \u001B[38;5;28;01mfrom\u001B[39;00m \u001B[38;5;21;01mkeras\u001B[39;00m\u001B[38;5;21;01m.\u001B[39;00m\u001B[38;5;21;01mmodels\u001B[39;00m \u001B[38;5;28;01mimport\u001B[39;00m Sequential\n\u001B[0;32m      8\u001B[0m \u001B[38;5;28;01mfrom\u001B[39;00m \u001B[38;5;21;01mkeras\u001B[39;00m\u001B[38;5;21;01m.\u001B[39;00m\u001B[38;5;21;01mlayers\u001B[39;00m \u001B[38;5;28;01mimport\u001B[39;00m LSTM,Dense,Dropout\n\u001B[0;32m     12\u001B[0m df \u001B[38;5;241m=\u001B[39m pd\u001B[38;5;241m.\u001B[39mread_csv(\u001B[38;5;124m\"\u001B[39m\u001B[38;5;124mTSLA.csv\u001B[39m\u001B[38;5;124m\"\u001B[39m)\n",
      "\u001B[1;31mModuleNotFoundError\u001B[0m: No module named 'keras'"
     ]
    }
   ],
   "source": [
    "import pandas as pd\n",
    "import numpy as np\n",
    "import tkinter as tk\n",
    "import matplotlib.pyplot as plt\n",
    "import plotly.graph_objects as go\n",
    "from sklearn.preprocessing import MinMaxScaler\n",
    "from keras.models import Sequential\n",
    "from keras.layers import Dense, Dropout, LSTM\n",
    "\n",
    "df = pd.read_csv(\"TSLA.csv\")\n",
    "df[\"Date\"] = pd.to_datetime(df[\"Date\"])\n",
    "\n",
    "fig = go.Figure(data=[go.Candlestick(x=df[\"Date\"],\n",
    "                                     open=df['Open'],\n",
    "                                     high=df['High'],\n",
    "                                     low=df['Low'],\n",
    "                                     close=df['Close'])])\n",
    "fig.show()\n",
    "\n",
    "data = df.dropna()\n",
    "\n",
    "scaler = MinMaxScaler(feature_range=(0, 1))\n",
    "scaled_Data = scaler.fit_transform(data[\"Close\"].values.reshape(-1, 1))\n",
    "\n",
    "timetopredict = 90\n",
    "\n",
    "xtrain = []\n",
    "ytrain = []\n",
    "\n",
    "for x in range(timetopredict, len(scaled_Data)):\n",
    "\txtrain.append(scaled_Data[x - timetopredict:x, 0])\n",
    "\tytrain.append(scaled_Data[x, 0])\n",
    "\n",
    "xtrain = np.array(xtrain)\n",
    "ytrain = np.array(ytrain)\n",
    "\n",
    "xtrain = np.reshape(xtrain, (xtrain.shape[0], xtrain.shape[1], 1))\n",
    "\n",
    "model = Sequential()\n",
    "\n",
    "model.add(LSTM(units=50, return_sequences=True, input_shape=(xtrain.shape[1], 1)))\n",
    "model.add(Dropout(0.2))\n",
    "\n",
    "model.add(LSTM(units=50, return_sequences=True))\n",
    "model.add(Dropout(0.2))\n",
    "\n",
    "model.add(LSTM(units=50))\n",
    "model.add(Dropout(0.2))\n",
    "model.add(Dense(units=1))\n",
    "\n",
    "model.compile(optimizer=\"adam\", loss=\"mean_squared_error\")\n",
    "\n",
    "model.fit(xtrain, ytrain, epochs=25, batch_size=32)\n",
    "\n",
    "test_start_date = data[\"Date\"].iloc[-timetopredict]\n",
    "test_data = data[data[\"Date\"] >= test_start_date]\n",
    "test_data = pd.merge(data[\"Close\"], test_data)\n",
    "\n",
    "actual_test_price = test_data[\"Close\"].values\n",
    "\n",
    "total_dataset = pd.concat((data[\"Close\"], test_data[\"Close\"]), axis=0)\n",
    "\n",
    "input_models = total_dataset[len(total_dataset) - len(test_data) - timetopredict:].values\n",
    "input_models = input_models.reshape((-1, 1))\n",
    "input_models = scaler.transform(input_models)\n",
    "\n",
    "\n",
    "\n",
    "xtest = []\n",
    "\n",
    "for x in range(timetopredict, len(input_models)):\n",
    "\txtest.append(input_models[x - timetopredict:x, 0])\n",
    "\n",
    "xtest = np.array(xtest)\n",
    "xtest = np.reshape(xtest, (xtest.shape[0], xtest.shape[1], 1))\n",
    "\n",
    "testprice = model.predict(xtest)\n",
    "\n",
    "testprice = scaler.inverse_transform(testprice)\n",
    "\n",
    "plt.plot(actual_test_price,label = \"real\")\n",
    "plt.plot(testprice,label = \"predict\")\n",
    "plt.legend()\n",
    "plt.show()\n",
    "\n"
   ]
  }
 ],
 "metadata": {
  "kernelspec": {
   "display_name": "Python 3 (ipykernel)",
   "language": "python",
   "name": "python3"
  },
  "language_info": {
   "codemirror_mode": {
    "name": "ipython",
    "version": 3
   },
   "file_extension": ".py",
   "mimetype": "text/x-python",
   "name": "python",
   "nbconvert_exporter": "python",
   "pygments_lexer": "ipython3",
   "version": "3.11.6"
  }
 },
 "nbformat": 4,
 "nbformat_minor": 5
}
